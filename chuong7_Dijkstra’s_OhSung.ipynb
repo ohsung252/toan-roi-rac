{
  "nbformat": 4,
  "nbformat_minor": 0,
  "metadata": {
    "colab": {
      "name": "chuong7_Dijkstra’s_OhSung.ipynb",
      "provenance": [],
      "authorship_tag": "ABX9TyO9xQqRYmvpA9VWUggvM7k8",
      "include_colab_link": true
    },
    "kernelspec": {
      "name": "python3",
      "display_name": "Python 3"
    },
    "language_info": {
      "name": "python"
    }
  },
  "cells": [
    {
      "cell_type": "markdown",
      "metadata": {
        "id": "view-in-github",
        "colab_type": "text"
      },
      "source": [
        "<a href=\"https://colab.research.google.com/github/ohsung252/toan-roi-rac/blob/main/chuong7_Dijkstra%E2%80%99s_OhSung.ipynb\" target=\"_parent\"><img src=\"https://colab.research.google.com/assets/colab-badge.svg\" alt=\"Open In Colab\"/></a>"
      ]
    },
    {
      "cell_type": "markdown",
      "source": [
        "#chuong7_Dijkstra’s_OhSung"
      ],
      "metadata": {
        "id": "C44ogZiSuHqf"
      }
    },
    {
      "cell_type": "code",
      "execution_count": 8,
      "metadata": {
        "id": "AYpit8nft46n"
      },
      "outputs": [],
      "source": [
        "import math\n",
        "import sys\n",
        "class Graph():\n",
        "  def __init__(cung, dinh):\n",
        "    cung.x= dinh\n",
        "    cung.graph = [[0 for column in range(dinh)]for row in range(dinh)]\n",
        "  def inketqua(cung, L, a):\n",
        "    print (\"đỉnh nguồn xuất phát từ: \")\n",
        "    for nut in range(cung.x):\n",
        "      print (a,\" đến đỉnh \",nut, \"độ dài đường đi là: \", L[nut])\n",
        "  def duongdinhonhat(cung, L, P):\n",
        "    min = sys.maxsize\n",
        "    for x in range(cung.x):\n",
        "      if L[x] < min and P[x] == False:\n",
        "        min = L[x]\n",
        "        min_index = x\n",
        "    return min_index\n",
        "  def timduongdi(cung, a):\n",
        "    L = [sys.maxsize] * cung.x\n",
        "    L[a] = 0\n",
        "    P = [False] * cung.x\n",
        "    for cout in range(cung.x):\n",
        "      u = cung.duongdinhonhat(L, P)\n",
        "      P[u] = True\n",
        "      for x in range(cung.x):\n",
        "        if cung.graph[u][x] > 0 and P[x] == False and L[x] > L[u] + cung.graph[u][x]:\n",
        "          L[x] = L[u] + cung.graph[u][x]\n",
        "          cung.inketqua(L, a)\n",
        "g = Graph(6)"
      ]
    },
    {
      "cell_type": "markdown",
      "source": [
        "#thuc hanh 1:"
      ],
      "metadata": {
        "id": "6-J7Op2T6oe7"
      }
    },
    {
      "cell_type": "code",
      "source": [
        "g.graph = [[0, 2, 0, 1, 0, 0],\n",
        " [3, 0, 8, 4, 0, 0],\n",
        " [0, 2, 0, 0, 7, 4],\n",
        " [4, 2, 0, 0, 2, 0],\n",
        " [0, 0, 11, 1, 0, 5],\n",
        " [0, 0, 3, 0, 5, 0]]\n",
        "g.timduongdi(0)"
      ],
      "metadata": {
        "colab": {
          "base_uri": "https://localhost:8080/",
          "height": 0
        },
        "id": "Yzd2eHWexCxT",
        "outputId": "764b75d3-bcea-4d20-b4c9-5a4cd25d4745"
      },
      "execution_count": 10,
      "outputs": [
        {
          "output_type": "stream",
          "name": "stdout",
          "text": [
            "đỉnh nguồn xuất phát từ: \n",
            "0  đến đỉnh  0 độ dài đường đi là:  0\n",
            "0  đến đỉnh  1 độ dài đường đi là:  2\n",
            "0  đến đỉnh  2 độ dài đường đi là:  9223372036854775807\n",
            "0  đến đỉnh  3 độ dài đường đi là:  9223372036854775807\n",
            "0  đến đỉnh  4 độ dài đường đi là:  9223372036854775807\n",
            "0  đến đỉnh  5 độ dài đường đi là:  9223372036854775807\n",
            "đỉnh nguồn xuất phát từ: \n",
            "0  đến đỉnh  0 độ dài đường đi là:  0\n",
            "0  đến đỉnh  1 độ dài đường đi là:  2\n",
            "0  đến đỉnh  2 độ dài đường đi là:  9223372036854775807\n",
            "0  đến đỉnh  3 độ dài đường đi là:  1\n",
            "0  đến đỉnh  4 độ dài đường đi là:  9223372036854775807\n",
            "0  đến đỉnh  5 độ dài đường đi là:  9223372036854775807\n",
            "đỉnh nguồn xuất phát từ: \n",
            "0  đến đỉnh  0 độ dài đường đi là:  0\n",
            "0  đến đỉnh  1 độ dài đường đi là:  2\n",
            "0  đến đỉnh  2 độ dài đường đi là:  9223372036854775807\n",
            "0  đến đỉnh  3 độ dài đường đi là:  1\n",
            "0  đến đỉnh  4 độ dài đường đi là:  3\n",
            "0  đến đỉnh  5 độ dài đường đi là:  9223372036854775807\n",
            "đỉnh nguồn xuất phát từ: \n",
            "0  đến đỉnh  0 độ dài đường đi là:  0\n",
            "0  đến đỉnh  1 độ dài đường đi là:  2\n",
            "0  đến đỉnh  2 độ dài đường đi là:  10\n",
            "0  đến đỉnh  3 độ dài đường đi là:  1\n",
            "0  đến đỉnh  4 độ dài đường đi là:  3\n",
            "0  đến đỉnh  5 độ dài đường đi là:  9223372036854775807\n",
            "đỉnh nguồn xuất phát từ: \n",
            "0  đến đỉnh  0 độ dài đường đi là:  0\n",
            "0  đến đỉnh  1 độ dài đường đi là:  2\n",
            "0  đến đỉnh  2 độ dài đường đi là:  10\n",
            "0  đến đỉnh  3 độ dài đường đi là:  1\n",
            "0  đến đỉnh  4 độ dài đường đi là:  3\n",
            "0  đến đỉnh  5 độ dài đường đi là:  8\n"
          ]
        }
      ]
    },
    {
      "cell_type": "markdown",
      "source": [
        "ket luan:\n",
        "L = 10 la do dai duong di ngan nhat di qua 4 dinh"
      ],
      "metadata": {
        "id": "ct5LgNhAy2uO"
      }
    },
    {
      "cell_type": "markdown",
      "source": [
        "#thuc hanh 2:\n"
      ],
      "metadata": {
        "id": "9S5-RGwczn42"
      }
    },
    {
      "cell_type": "code",
      "source": [
        "g.graph = [[0, 3, 0, 1, 0, 0],\n",
        " [3, 0, 5, 2, 0, 0],\n",
        " [0, 5, 0, 0, 4, 2],\n",
        " [1, 2, 0, 0, 6, 0],\n",
        " [0, 0, 4, 6, 0, 7],\n",
        " [0, 0, 2, 0, 7, 0]]\n",
        "g.timduongdi(0)"
      ],
      "metadata": {
        "colab": {
          "base_uri": "https://localhost:8080/",
          "height": 0
        },
        "id": "ywB_Ya1Lzrxd",
        "outputId": "355c2eff-e9ae-454e-c6a3-8a5a1480c0de"
      },
      "execution_count": 11,
      "outputs": [
        {
          "output_type": "stream",
          "name": "stdout",
          "text": [
            "đỉnh nguồn xuất phát từ: \n",
            "0  đến đỉnh  0 độ dài đường đi là:  0\n",
            "0  đến đỉnh  1 độ dài đường đi là:  3\n",
            "0  đến đỉnh  2 độ dài đường đi là:  9223372036854775807\n",
            "0  đến đỉnh  3 độ dài đường đi là:  9223372036854775807\n",
            "0  đến đỉnh  4 độ dài đường đi là:  9223372036854775807\n",
            "0  đến đỉnh  5 độ dài đường đi là:  9223372036854775807\n",
            "đỉnh nguồn xuất phát từ: \n",
            "0  đến đỉnh  0 độ dài đường đi là:  0\n",
            "0  đến đỉnh  1 độ dài đường đi là:  3\n",
            "0  đến đỉnh  2 độ dài đường đi là:  9223372036854775807\n",
            "0  đến đỉnh  3 độ dài đường đi là:  1\n",
            "0  đến đỉnh  4 độ dài đường đi là:  9223372036854775807\n",
            "0  đến đỉnh  5 độ dài đường đi là:  9223372036854775807\n",
            "đỉnh nguồn xuất phát từ: \n",
            "0  đến đỉnh  0 độ dài đường đi là:  0\n",
            "0  đến đỉnh  1 độ dài đường đi là:  3\n",
            "0  đến đỉnh  2 độ dài đường đi là:  9223372036854775807\n",
            "0  đến đỉnh  3 độ dài đường đi là:  1\n",
            "0  đến đỉnh  4 độ dài đường đi là:  7\n",
            "0  đến đỉnh  5 độ dài đường đi là:  9223372036854775807\n",
            "đỉnh nguồn xuất phát từ: \n",
            "0  đến đỉnh  0 độ dài đường đi là:  0\n",
            "0  đến đỉnh  1 độ dài đường đi là:  3\n",
            "0  đến đỉnh  2 độ dài đường đi là:  8\n",
            "0  đến đỉnh  3 độ dài đường đi là:  1\n",
            "0  đến đỉnh  4 độ dài đường đi là:  7\n",
            "0  đến đỉnh  5 độ dài đường đi là:  9223372036854775807\n",
            "đỉnh nguồn xuất phát từ: \n",
            "0  đến đỉnh  0 độ dài đường đi là:  0\n",
            "0  đến đỉnh  1 độ dài đường đi là:  3\n",
            "0  đến đỉnh  2 độ dài đường đi là:  8\n",
            "0  đến đỉnh  3 độ dài đường đi là:  1\n",
            "0  đến đỉnh  4 độ dài đường đi là:  7\n",
            "0  đến đỉnh  5 độ dài đường đi là:  14\n",
            "đỉnh nguồn xuất phát từ: \n",
            "0  đến đỉnh  0 độ dài đường đi là:  0\n",
            "0  đến đỉnh  1 độ dài đường đi là:  3\n",
            "0  đến đỉnh  2 độ dài đường đi là:  8\n",
            "0  đến đỉnh  3 độ dài đường đi là:  1\n",
            "0  đến đỉnh  4 độ dài đường đi là:  7\n",
            "0  đến đỉnh  5 độ dài đường đi là:  10\n"
          ]
        }
      ]
    },
    {
      "cell_type": "markdown",
      "source": [
        "ket luan:\n",
        "L(z) = 10 la do dai duong di ngan nhat tu dinh a den z. Vay duong di ngan nhat la: a->b->c->z"
      ],
      "metadata": {
        "id": "RJnYOKM80aYc"
      }
    },
    {
      "cell_type": "markdown",
      "source": [
        "#thuc hanh 3:\n"
      ],
      "metadata": {
        "id": "Oo-ia_CH0kni"
      }
    },
    {
      "cell_type": "code",
      "source": [
        "g.graph = [[0, 4, 0, 1, 0, 0],\n",
        " [0, 0, 8, 0, 0, 0],\n",
        " [0, 0, 0, 0, 0, 4],\n",
        " [0, 0, 9, 0, 5, 0],\n",
        " [0, 0, 1, 0, 0, 7],\n",
        " [0, 0, 0, 0, 0, 0]]\n",
        "g.timduongdi(0)"
      ],
      "metadata": {
        "colab": {
          "base_uri": "https://localhost:8080/"
        },
        "id": "iVzz5gwi0o3-",
        "outputId": "66488c9b-0385-4235-d02a-2b4664e1eeee"
      },
      "execution_count": 13,
      "outputs": [
        {
          "output_type": "stream",
          "name": "stdout",
          "text": [
            "đỉnh nguồn xuất phát từ: \n",
            "0  đến đỉnh  0 độ dài đường đi là:  0\n",
            "0  đến đỉnh  1 độ dài đường đi là:  4\n",
            "0  đến đỉnh  2 độ dài đường đi là:  9223372036854775807\n",
            "0  đến đỉnh  3 độ dài đường đi là:  9223372036854775807\n",
            "0  đến đỉnh  4 độ dài đường đi là:  9223372036854775807\n",
            "0  đến đỉnh  5 độ dài đường đi là:  9223372036854775807\n",
            "đỉnh nguồn xuất phát từ: \n",
            "0  đến đỉnh  0 độ dài đường đi là:  0\n",
            "0  đến đỉnh  1 độ dài đường đi là:  4\n",
            "0  đến đỉnh  2 độ dài đường đi là:  9223372036854775807\n",
            "0  đến đỉnh  3 độ dài đường đi là:  1\n",
            "0  đến đỉnh  4 độ dài đường đi là:  9223372036854775807\n",
            "0  đến đỉnh  5 độ dài đường đi là:  9223372036854775807\n",
            "đỉnh nguồn xuất phát từ: \n",
            "0  đến đỉnh  0 độ dài đường đi là:  0\n",
            "0  đến đỉnh  1 độ dài đường đi là:  4\n",
            "0  đến đỉnh  2 độ dài đường đi là:  10\n",
            "0  đến đỉnh  3 độ dài đường đi là:  1\n",
            "0  đến đỉnh  4 độ dài đường đi là:  9223372036854775807\n",
            "0  đến đỉnh  5 độ dài đường đi là:  9223372036854775807\n",
            "đỉnh nguồn xuất phát từ: \n",
            "0  đến đỉnh  0 độ dài đường đi là:  0\n",
            "0  đến đỉnh  1 độ dài đường đi là:  4\n",
            "0  đến đỉnh  2 độ dài đường đi là:  10\n",
            "0  đến đỉnh  3 độ dài đường đi là:  1\n",
            "0  đến đỉnh  4 độ dài đường đi là:  6\n",
            "0  đến đỉnh  5 độ dài đường đi là:  9223372036854775807\n",
            "đỉnh nguồn xuất phát từ: \n",
            "0  đến đỉnh  0 độ dài đường đi là:  0\n",
            "0  đến đỉnh  1 độ dài đường đi là:  4\n",
            "0  đến đỉnh  2 độ dài đường đi là:  7\n",
            "0  đến đỉnh  3 độ dài đường đi là:  1\n",
            "0  đến đỉnh  4 độ dài đường đi là:  6\n",
            "0  đến đỉnh  5 độ dài đường đi là:  9223372036854775807\n",
            "đỉnh nguồn xuất phát từ: \n",
            "0  đến đỉnh  0 độ dài đường đi là:  0\n",
            "0  đến đỉnh  1 độ dài đường đi là:  4\n",
            "0  đến đỉnh  2 độ dài đường đi là:  7\n",
            "0  đến đỉnh  3 độ dài đường đi là:  1\n",
            "0  đến đỉnh  4 độ dài đường đi là:  6\n",
            "0  đến đỉnh  5 độ dài đường đi là:  13\n",
            "đỉnh nguồn xuất phát từ: \n",
            "0  đến đỉnh  0 độ dài đường đi là:  0\n",
            "0  đến đỉnh  1 độ dài đường đi là:  4\n",
            "0  đến đỉnh  2 độ dài đường đi là:  7\n",
            "0  đến đỉnh  3 độ dài đường đi là:  1\n",
            "0  đến đỉnh  4 độ dài đường đi là:  6\n",
            "0  đến đỉnh  5 độ dài đường đi là:  11\n"
          ]
        }
      ]
    },
    {
      "cell_type": "markdown",
      "source": [
        "ket luan:\n",
        "L = 11 la do dai duong di ngan nhat tu dinh a den z. Vay duong di ngan nhat la: a->f->g->c->z\n"
      ],
      "metadata": {
        "id": "Y7Bi9ZDf04KT"
      }
    }
  ]
}