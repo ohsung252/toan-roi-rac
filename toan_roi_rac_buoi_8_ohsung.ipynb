{
  "nbformat": 4,
  "nbformat_minor": 0,
  "metadata": {
    "colab": {
      "name": "toan roi rac buoi 8_ohsung.ipynb",
      "provenance": [],
      "authorship_tag": "ABX9TyMWN1oNyg9v1qmE8s04z6G6",
      "include_colab_link": true
    },
    "kernelspec": {
      "name": "python3",
      "display_name": "Python 3"
    },
    "language_info": {
      "name": "python"
    }
  },
  "cells": [
    {
      "cell_type": "markdown",
      "metadata": {
        "id": "view-in-github",
        "colab_type": "text"
      },
      "source": [
        "<a href=\"https://colab.research.google.com/github/ohsung252/toan-roi-rac/blob/main/toan_roi_rac_buoi_8_ohsung.ipynb\" target=\"_parent\"><img src=\"https://colab.research.google.com/assets/colab-badge.svg\" alt=\"Open In Colab\"/></a>"
      ]
    },
    {
      "cell_type": "markdown",
      "source": [
        "#1.3 Cây khung và cây khung tối thiểu "
      ],
      "metadata": {
        "id": "LY61tFNiqXgK"
      }
    },
    {
      "cell_type": "code",
      "execution_count": 3,
      "metadata": {
        "colab": {
          "base_uri": "https://localhost:8080/"
        },
        "id": "kF9LfjkNqSIi",
        "outputId": "d9ad963a-54ac-4c4b-bf00-69990a281bcd"
      },
      "outputs": [
        {
          "output_type": "execute_result",
          "data": {
            "text/plain": [
              "NodeView(('TP.HCM', 'Dong Nai', 'Ba Ria Vung Tau', 'Lam Dong', 'Can Tho', 'Long An', 'Tien Giang', '29'))"
            ]
          },
          "metadata": {},
          "execution_count": 3
        }
      ],
      "source": [
        "import networkx as nx\n",
        "g = nx.Graph()\n",
        "g.add_node('TP.HCM')\n",
        "g.add_node('Dong Nai')\n",
        "g.add_node('Ba Ria Vung Tau')\n",
        "g.add_node('Lam Dong')\n",
        "g.add_node('Can Tho')\n",
        "g.add_node('Long An')\n",
        "g.add_node('Tien Giang')\n",
        "g.add_edge('TP.HCM', 'Dong Nai', weight = 50)\n",
        "g.add_edge('TP.HCM', 'Ba Ria Vung Tau', weight = 120)\n",
        "g.add_edge('TP.HCM', 'Long An', weight = 40)\n",
        "g.add_edge('Dong Nai', 'Lam Dong', weight = 230)\n",
        "g.add_edge('Dong Nai', 'Ba Ria Vung Tau', weight = 60)\n",
        "g.add_edge('Tien Giang', '29') # lệnh gõ nhầm\n",
        "g.remove_edge('Tien Giang', '29') # xóa lệnh gõ nhầm\n",
        "g.add_edge('Tien Giang', 'Long An') #lệnh gõ thiếu chiều dài (trọng số, weight)\n",
        "g.remove_edge('Tien Giang', 'Long An') # xóa lệnh gõ thiếu chiều dài\n",
        "g.add_edge('Tien Giang', 'Long An', weight = 29)\n",
        "g.add_edge('Tien Giang', 'Can Tho', weight = 200)\n",
        "g.add_edge('Long An', 'Dong Nai', weight = 70)\n",
        "g.nodes()\n"
      ]
    },
    {
      "cell_type": "code",
      "source": [
        "g.remove_node('29')\n",
        "g.nodes()"
      ],
      "metadata": {
        "colab": {
          "base_uri": "https://localhost:8080/"
        },
        "id": "bQRqv-3SriPa",
        "outputId": "fb5b2060-e52b-4cb8-81fe-70bab7ecac10"
      },
      "execution_count": 4,
      "outputs": [
        {
          "output_type": "execute_result",
          "data": {
            "text/plain": [
              "NodeView(('TP.HCM', 'Dong Nai', 'Ba Ria Vung Tau', 'Lam Dong', 'Can Tho', 'Long An', 'Tien Giang'))"
            ]
          },
          "metadata": {},
          "execution_count": 4
        }
      ]
    },
    {
      "cell_type": "code",
      "source": [
        "sorted(g.edges(data=True))"
      ],
      "metadata": {
        "colab": {
          "base_uri": "https://localhost:8080/"
        },
        "id": "EsHJ0j0JroJJ",
        "outputId": "f4901949-4285-406a-997b-7aac9a732fdf"
      },
      "execution_count": 5,
      "outputs": [
        {
          "output_type": "execute_result",
          "data": {
            "text/plain": [
              "[('Can Tho', 'Tien Giang', {'weight': 200}),\n",
              " ('Dong Nai', 'Ba Ria Vung Tau', {'weight': 60}),\n",
              " ('Dong Nai', 'Lam Dong', {'weight': 230}),\n",
              " ('Dong Nai', 'Long An', {'weight': 70}),\n",
              " ('Long An', 'Tien Giang', {'weight': 29}),\n",
              " ('TP.HCM', 'Ba Ria Vung Tau', {'weight': 120}),\n",
              " ('TP.HCM', 'Dong Nai', {'weight': 50}),\n",
              " ('TP.HCM', 'Long An', {'weight': 40})]"
            ]
          },
          "metadata": {},
          "execution_count": 5
        }
      ]
    },
    {
      "cell_type": "code",
      "source": [
        "T = nx.maximum_spanning_tree(g) \n",
        "sorted(T.edges(data=True)) "
      ],
      "metadata": {
        "colab": {
          "base_uri": "https://localhost:8080/"
        },
        "id": "Pror6KUUruxA",
        "outputId": "10f95dea-5d24-4dba-ef25-8f20323a277b"
      },
      "execution_count": 6,
      "outputs": [
        {
          "output_type": "execute_result",
          "data": {
            "text/plain": [
              "[('Can Tho', 'Tien Giang', {'weight': 200}),\n",
              " ('Dong Nai', 'Ba Ria Vung Tau', {'weight': 60}),\n",
              " ('Dong Nai', 'Lam Dong', {'weight': 230}),\n",
              " ('Dong Nai', 'Long An', {'weight': 70}),\n",
              " ('Long An', 'Tien Giang', {'weight': 29}),\n",
              " ('TP.HCM', 'Ba Ria Vung Tau', {'weight': 120})]"
            ]
          },
          "metadata": {},
          "execution_count": 6
        }
      ]
    },
    {
      "cell_type": "code",
      "source": [
        "T.nodes()"
      ],
      "metadata": {
        "colab": {
          "base_uri": "https://localhost:8080/"
        },
        "id": "O9EqFrUfr0WY",
        "outputId": "b3ed0c85-9acb-4846-9db0-47aab138b816"
      },
      "execution_count": 7,
      "outputs": [
        {
          "output_type": "execute_result",
          "data": {
            "text/plain": [
              "NodeView(('TP.HCM', 'Dong Nai', 'Ba Ria Vung Tau', 'Lam Dong', 'Can Tho', 'Long An', 'Tien Giang'))"
            ]
          },
          "metadata": {},
          "execution_count": 7
        }
      ]
    },
    {
      "cell_type": "markdown",
      "source": [
        "#2.0 Một số tham khảo về hỗ trợ của gói Networkx để xử lý mạng đồ thị và cây: "
      ],
      "metadata": {
        "id": "8TITzHYUr69H"
      }
    },
    {
      "cell_type": "markdown",
      "source": [
        "Phân tích Pagerank (chỉ số kết nối):"
      ],
      "metadata": {
        "id": "ui05N8aYsPv6"
      }
    },
    {
      "cell_type": "code",
      "source": [
        "nx.pagerank(g, 0.85)"
      ],
      "metadata": {
        "colab": {
          "base_uri": "https://localhost:8080/"
        },
        "id": "GgSr3SKlsRSY",
        "outputId": "055efe73-7a41-4782-f684-13cd1832ffec"
      },
      "execution_count": 8,
      "outputs": [
        {
          "output_type": "execute_result",
          "data": {
            "text/plain": [
              "{'Ba Ria Vung Tau': 0.11598739208998517,\n",
              " 'Can Tho': 0.13462563996889282,\n",
              " 'Dong Nai': 0.23515074008532225,\n",
              " 'Lam Dong': 0.13355497428234894,\n",
              " 'Long An': 0.09373705822226845,\n",
              " 'TP.HCM': 0.1344588073814972,\n",
              " 'Tien Giang': 0.15248538796968536}"
            ]
          },
          "metadata": {},
          "execution_count": 8
        }
      ]
    },
    {
      "cell_type": "markdown",
      "source": [
        "Lệnh sau để phân các vùng gần nhau: "
      ],
      "metadata": {
        "id": "ZpAjGEDbsaLo"
      }
    },
    {
      "cell_type": "code",
      "source": [
        "nx.min_edge_cover(g) "
      ],
      "metadata": {
        "colab": {
          "base_uri": "https://localhost:8080/"
        },
        "id": "ZITSLGDtsU7A",
        "outputId": "eedbea4b-52a4-43e1-8773-65755de360b9"
      },
      "execution_count": 9,
      "outputs": [
        {
          "output_type": "execute_result",
          "data": {
            "text/plain": [
              "{('Lam Dong', 'Dong Nai'),\n",
              " ('Long An', 'TP.HCM'),\n",
              " ('TP.HCM', 'Ba Ria Vung Tau'),\n",
              " ('TP.HCM', 'Long An'),\n",
              " ('Tien Giang', 'Can Tho')}"
            ]
          },
          "metadata": {},
          "execution_count": 9
        }
      ]
    },
    {
      "cell_type": "markdown",
      "source": [
        "#3.3. [Đọc thêm] Cài đặt thuật toán D8"
      ],
      "metadata": {
        "id": "m5KEhHt6srVo"
      }
    },
    {
      "cell_type": "code",
      "source": [
        "import math\n",
        "import numpy as np\n",
        "def tinh_huong(dem, m_dong, n_cot, vitri):\n",
        " huong = np.zeros((m_dong, n_cot))\n",
        " for dong in range(m_dong):\n",
        "  for cot in range(n_cot):\n",
        "    xx, yy, mymax = 0, 0, 0\n",
        "    for i in range(-1,2):\n",
        "      for j in range(-1,2):\n",
        "        if (i*i+j*j>0) and \\\n",
        "          (dong+i>=0) and (dong+i<m_dong) and \\\n",
        "          (cot+j>=0) and (cot+j<n_cot) and \\\n",
        "          (mymax*math.sqrt(i*i+j*j) < dem[dong][cot] - dem[dong+i][cot+j]):\n",
        "            mymax = dem[dong][cot] - dem[dong+i][cot+j] \n",
        "            xx = i \n",
        "            yy = j\n",
        "    huong[dong][cot] = vitri[xx+1][yy+1]\n",
        " return huong"
      ],
      "metadata": {
        "id": "yPzx2AXFstxn"
      },
      "execution_count": 10,
      "outputs": []
    },
    {
      "cell_type": "code",
      "source": [
        "def tinh_tichluy(p, q, m_dong, n_cot):\n",
        "  for i in range(-1, 2):\n",
        "    for j in range(-1,2):\n",
        "      if (i*i+j*j>0) and \\\n",
        "        (p+i>=0) and (p+i<m_dong) and \\\n",
        "        (q+j>=0) and (q+j<n_cot) and \\\n",
        "        (huong[p+i][q+j] == vitri[-(i-1)][-(j-1)]):\n",
        "          t1.append(1)\n",
        "          tinh_tichluy(p+i, q+j, m_dong, n_cot)\n",
        "  return len(t1)\n",
        "vitri = np.array([ [32,64,128],[16,0,1],[8,4,2]])\n",
        "#dem = [ [0 for j in range(n_cot)] for i in range(m_dong)]\n",
        "# Giả định dữ liệu địa hình dem là một bảng 6x6 dưới đây:\n",
        "dem = np.array([[78,72,69,71,58,49],\n",
        "                [74,67,56,49,46,50],\n",
        "                [69,53,44,37,38,48],\n",
        "                [64,58,55,22,31,24],\n",
        "                [68,61,47,21,16,19],\n",
        "                [74,53,34,12,11,12]]) "
      ],
      "metadata": {
        "id": "V2Q6x2xbtTkg"
      },
      "execution_count": 13,
      "outputs": []
    },
    {
      "cell_type": "code",
      "source": [
        "m_dong = dem.shape[0] #6\n",
        "n_cot = dem.shape[1] #6\n",
        "tichluy = np.zeros((m_dong, n_cot)) #[ [0 for j in range(n_cot)] for i in range(m_dong)]\n",
        "huong = tinh_huong(dem, 6,6, vitri)\n",
        "for i in range(m_dong):\n",
        " for j in range(n_cot):\n",
        "  t1 = []\n",
        "  tichluy[i][j] = tinh_tichluy(i, j, m_dong, n_cot) "
      ],
      "metadata": {
        "id": "LTl-mSnJt3jv"
      },
      "execution_count": 14,
      "outputs": []
    },
    {
      "cell_type": "code",
      "source": [
        "print (dem)"
      ],
      "metadata": {
        "colab": {
          "base_uri": "https://localhost:8080/"
        },
        "id": "YzyKOe-Lt8Wv",
        "outputId": "fba5de5f-cf39-44d9-867d-aa6844757aba"
      },
      "execution_count": 15,
      "outputs": [
        {
          "output_type": "stream",
          "name": "stdout",
          "text": [
            "[[78 72 69 71 58 49]\n",
            " [74 67 56 49 46 50]\n",
            " [69 53 44 37 38 48]\n",
            " [64 58 55 22 31 24]\n",
            " [68 61 47 21 16 19]\n",
            " [74 53 34 12 11 12]]\n"
          ]
        }
      ]
    },
    {
      "cell_type": "code",
      "source": [
        "print (huong) "
      ],
      "metadata": {
        "colab": {
          "base_uri": "https://localhost:8080/"
        },
        "id": "96fvJLupuBTA",
        "outputId": "32dbd88b-b66b-45cc-a256-63632e695c1b"
      },
      "execution_count": 16,
      "outputs": [
        {
          "output_type": "stream",
          "name": "stdout",
          "text": [
            "[[  2.   2.   2.   4.   4.   8.]\n",
            " [  2.   2.   2.   4.   8.   8.]\n",
            " [  1.   1.   2.   4.   8.   4.]\n",
            " [128. 128.   1.   2.   4.   8.]\n",
            " [  2.   2.   1.   4.   4.   8.]\n",
            " [  1.   1.   1.   1.   0.  16.]]\n"
          ]
        }
      ]
    },
    {
      "cell_type": "code",
      "source": [
        "print (tichluy) "
      ],
      "metadata": {
        "colab": {
          "base_uri": "https://localhost:8080/"
        },
        "id": "Dy1FqA7wuEaX",
        "outputId": "f3b53afc-4267-4e86-d794-9d444eca32d4"
      },
      "execution_count": 17,
      "outputs": [
        {
          "output_type": "stream",
          "name": "stdout",
          "text": [
            "[[ 0.  0.  0.  0.  0.  0.]\n",
            " [ 0.  1.  1.  2.  2.  0.]\n",
            " [ 0.  3.  7.  8.  1.  0.]\n",
            " [ 0.  0.  0. 20.  0.  1.]\n",
            " [ 0.  0.  0.  1. 24.  0.]\n",
            " [ 0.  2.  4.  7. 35.  0.]]\n"
          ]
        }
      ]
    }
  ]
}